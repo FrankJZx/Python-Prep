{
 "cells": [
  {
   "cell_type": "code",
   "execution_count": 5,
   "metadata": {},
   "outputs": [
    {
     "name": "stdout",
     "output_type": "stream",
     "text": [
      "FRANK JUNIOR URRIBARRI GONZALEZ\n"
     ]
    }
   ],
   "source": [
    "nombre_completo = \"frank junior urribarri gonzalez\"\n",
    "\n",
    "nombre_en_mayuscula = nombre_completo.upper()\n",
    "\n",
    "print(nombre_en_mayuscula)"
   ]
  },
  {
   "cell_type": "code",
   "execution_count": 10,
   "metadata": {},
   "outputs": [
    {
     "name": "stdout",
     "output_type": "stream",
     "text": [
      "frank junior urribarri gonzalez\n"
     ]
    }
   ],
   "source": [
    "nombre_en_minuscula = nombre_en_mayuscula.lower()\n",
    "\n",
    "print(nombre_en_minuscula)"
   ]
  },
  {
   "cell_type": "code",
   "execution_count": 12,
   "metadata": {},
   "outputs": [
    {
     "name": "stdout",
     "output_type": "stream",
     "text": [
      "Frank junior urribarri gonzalez\n"
     ]
    }
   ],
   "source": [
    "nombre_con_inicial_mayuscula = nombre_en_mayuscula.capitalize()\n",
    "\n",
    "print(nombre_con_inicial_mayuscula)\n"
   ]
  },
  {
   "cell_type": "code",
   "execution_count": 15,
   "metadata": {},
   "outputs": [
    {
     "name": "stdout",
     "output_type": "stream",
     "text": [
      "Frank Urribarri\n"
     ]
    }
   ],
   "source": [
    "nombre = \"    Frank Urribarri    \"\n",
    "\n",
    "nombre_sin_espacios = nombre.strip()\n",
    "\n",
    "print(nombre_sin_espacios)"
   ]
  },
  {
   "cell_type": "code",
   "execution_count": 23,
   "metadata": {},
   "outputs": [
    {
     "name": "stdout",
     "output_type": "stream",
     "text": [
      "['c', 'rrer,caminar,tr', 'tar,gatear,saltar']\n"
     ]
    }
   ],
   "source": [
    "acciones = \"correr,caminar,trotar,gatear,saltar\"\n",
    "\n",
    "separar = acciones.split(\"o\")\n",
    "\n",
    "print(separar)"
   ]
  },
  {
   "cell_type": "code",
   "execution_count": 29,
   "metadata": {},
   "outputs": [
    {
     "name": "stdout",
     "output_type": "stream",
     "text": [
      "hi chicos como me les esta yendo?\n"
     ]
    }
   ],
   "source": [
    "saludo = \"hola amigos como estan?\"\n",
    "\n",
    "correccion = saludo.replace(\"amigos\", \"chicos\").replace(\"hola\", \"hi\").replace(\"estan?\", \"me les esta yendo?\")\n",
    "\n",
    "print(correccion)"
   ]
  },
  {
   "cell_type": "code",
   "execution_count": 35,
   "metadata": {},
   "outputs": [
    {
     "name": "stdout",
     "output_type": "stream",
     "text": [
      "False\n",
      "True\n"
     ]
    }
   ],
   "source": [
    "oracion = \"que vas a hacer hoy ?\"\n",
    "inicio = oracion.startswith(\"hola\")\n",
    "inicio2 = oracion.startswith(\"que\")\n",
    "\n",
    "print(inicio)\n",
    "print(inicio2)"
   ]
  },
  {
   "cell_type": "code",
   "execution_count": 39,
   "metadata": {},
   "outputs": [
    {
     "name": "stdout",
     "output_type": "stream",
     "text": [
      "False\n",
      "True\n"
     ]
    }
   ],
   "source": [
    "termina1 = oracion.endswith(\"mañana ?\")\n",
    "print(termina1)\n",
    "\n",
    "termina2 = oracion.endswith(\"hoy ?\")\n",
    "print(termina2)"
   ]
  },
  {
   "cell_type": "code",
   "execution_count": 40,
   "metadata": {},
   "outputs": [
    {
     "name": "stdout",
     "output_type": "stream",
     "text": [
      "que vas a hacer hoy ?\n"
     ]
    }
   ],
   "source": [
    "x = oracion\n",
    "\n",
    "print(x)"
   ]
  },
  {
   "cell_type": "code",
   "execution_count": 53,
   "metadata": {},
   "outputs": [
    {
     "name": "stdout",
     "output_type": "stream",
     "text": [
      "16 20 10 4\n"
     ]
    }
   ],
   "source": [
    "buscar1 = x.find(\"hoy\")\n",
    "buscar2 = x.find(\"?\")\n",
    "buscar3 = x.find(\"hacer\")\n",
    "buscar4 = x.find(\"vas\")\n",
    "\n",
    "print(buscar1, buscar2, buscar3, buscar4)"
   ]
  },
  {
   "cell_type": "code",
   "execution_count": 74,
   "metadata": {},
   "outputs": [
    {
     "name": "stdout",
     "output_type": "stream",
     "text": [
      "2 3 1 0\n"
     ]
    }
   ],
   "source": [
    "print(oracion.count(\"e\"), oracion.count(\"a\"), oracion.count(\"hoy\"), oracion.count(\"el jueves\"))\n",
    "\n"
   ]
  }
 ],
 "metadata": {
  "kernelspec": {
   "display_name": "Python 3",
   "language": "python",
   "name": "python3"
  },
  "language_info": {
   "codemirror_mode": {
    "name": "ipython",
    "version": 3
   },
   "file_extension": ".py",
   "mimetype": "text/x-python",
   "name": "python",
   "nbconvert_exporter": "python",
   "pygments_lexer": "ipython3",
   "version": "3.11.5"
  },
  "orig_nbformat": 4
 },
 "nbformat": 4,
 "nbformat_minor": 2
}
